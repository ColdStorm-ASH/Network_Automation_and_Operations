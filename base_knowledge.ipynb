{
 "cells": [
  {
   "cell_type": "markdown",
   "id": "4c71b4db-54d3-480c-b632-edb46221b0de",
   "metadata": {},
   "source": [
    "### 简单的Ping 测试脚本\n",
    "主要用于测试服务器是否能够使用python程序ping通设备"
   ]
  },
  {
   "cell_type": "code",
   "execution_count": 2,
   "id": "4dd6bbe5-b155-4eca-b64e-0ef3ee2e9db2",
   "metadata": {},
   "outputs": [
    {
     "name": "stdout",
     "output_type": "stream",
     "text": [
      "开始网络连通性测试...\n",
      "✅ 192.168.56.3 可达\n",
      "✅ 192.168.56.4 可达\n",
      "✅ 192.168.56.5 可达\n",
      "网络测试完成\n"
     ]
    }
   ],
   "source": [
    "import subprocess\n",
    "\n",
    "# 测试的IP地址列表\n",
    "test_ips = [\"192.168.56.3\",\"192.168.56.4\",\"192.168.56.5\"]\n",
    "\n",
    "print(\"开始网络连通性测试...\")\n",
    "\n",
    "# 逐个ping测试IP地址\n",
    "for ip in test_ips:\n",
    "    command = ['ping', '-c', str(3), '-W', str(5), ip]\n",
    "    \n",
    "    try:\n",
    "        result = subprocess.run(\n",
    "            command,\n",
    "            stdout=subprocess.PIPE,\n",
    "            stderr=subprocess.PIPE,\n",
    "            text=True\n",
    "        )\n",
    "\n",
    "        if result.returncode == 0:\n",
    "            print(f\"✅ {ip} 可达\")\n",
    "        else:\n",
    "            print(f\"❌ {ip} 不可达\")\n",
    "            if result.stderr.strip():\n",
    "                print(\"错误信息:\", result.stderr.strip())\n",
    "\n",
    "    except Exception as e:\n",
    "        print(f\"⚠️ 执行 ping {ip} 时出错: {e}\")\n",
    "\n",
    "print(\"网络测试完成\")"
   ]
  },
  {
   "cell_type": "markdown",
   "id": "e18b3a31-b221-4a28-880c-467c88969f1c",
   "metadata": {},
   "source": [
    "### 简单的SSH测试脚本\n",
    "主要用于测试服务器是否能够使用python程序通过SSH协议连接设备"
   ]
  },
  {
   "cell_type": "code",
   "execution_count": 3,
   "id": "46901c01-bd63-469d-96ae-affe5423c4a8",
   "metadata": {},
   "outputs": [
    {
     "name": "stdout",
     "output_type": "stream",
     "text": [
      "dis version\n",
      "\n",
      "\u0000******************************************************************************\n",
      "* Copyright (c) 2004-2021 New H3C Technologies Co., Ltd. All rights reserved.*\n",
      "* Without the owner's prior written consent,                                 *\n",
      "* no decompiling or reverse-engineering shall be allowed.                    *\n",
      "******************************************************************************\n",
      "\n",
      "\u0000<H3C>dis version\n",
      "H3C Comware Software, Version 7.1.064, Release 0427P22\n",
      "Copyright (c) 2004-2021 New H3C Technologies Co., Ltd. All rights reserved.\n",
      "H3C MSR36-20 uptime is 0 weeks, 0 days, 0 hours, 31 minutes\n",
      "Last reboot reason: User reboot\n",
      "Boot image: flash:/msr36-cmw710-boot-r0424p22.bin\n",
      "Boot image version: 7.1.064, Release 0427P22\n",
      "  Compiled Mar 16 2021 15:00:00\n",
      "Boot image: flash:/msr36-cmw710-system-r0424p22.bin\n",
      "Boot image version: 7.1.064, Release 0427P22\n",
      "  Compiled Mar 16 2021 15:00:00\n",
      "\n",
      "CPU ID: 0x2\n",
      "384M bytes DDR3 SDRAM Memory\n",
      "1024M bytes Flash Memory\n",
      "PCB               Version:  2.0\n",
      "CPLD              Version:  1.0\n",
      "Basic    BootWare Version:  1.42\n",
      "Extended BootWare Version:  1.42\n",
      "\n",
      "<H3C>\n"
     ]
    }
   ],
   "source": [
    "import paramiko\n",
    "import time\n",
    "\n",
    "ip = \"192.168.56.3\"\n",
    "user = \"user\"\n",
    "passwd = \"User@12345\"\n",
    "\n",
    "ssh_client = paramiko.SSHClient()  # 实例化SSHClient\n",
    "ssh_client.set_missing_host_key_policy(paramiko.AutoAddPolicy())  # 自动添加策略，保存服务器主机名和密钥信息\n",
    "ssh_client.connect(hostname=ip, username=user, password=passwd)  # 连接SSH服务端，以用户名和密码进行认证\n",
    "\n",
    "command = ssh_client.invoke_shell()  # 在客户端激活shell                        \n",
    "command.send(\"dis version\\n\")  # 输入dis version命令\n",
    "\n",
    "time.sleep(2)  # 线程推迟2S运行 = 休眠2S\n",
    "output = command.recv(65535)  # 接收的最大字节数\n",
    "print(output.decode(\"ascii\"))  # 打印结果以ASCII输出\n",
    "\n",
    "ssh_client.close()  # 关闭SSHClient"
   ]
  },
  {
   "cell_type": "markdown",
   "id": "f64cf5c4-efb2-4b34-a664-9b7b890d622c",
   "metadata": {},
   "source": [
    "### 简单的FTP脚本\n",
    "主要用于测试服务器是否能够使用python程序通过FTP协议备份设备配置"
   ]
  },
  {
   "cell_type": "code",
   "execution_count": 35,
   "id": "1de927eb-10f7-4de7-bad2-bb6d262db25e",
   "metadata": {},
   "outputs": [
    {
     "name": "stdout",
     "output_type": "stream",
     "text": [
      "H3C_2025_7_28_16_35_startup.cfg\n",
      "put startup.cfg /home/py-auto-dev/AutoDevPro/Device_Config_Backup/H3C_2025_7_28_16_35_startup.cfg\n",
      "quit\n",
      "Uploading startup.cfg to /home/py-auto-dev/AutoDevPro/Device_Config_Backup/H3C_2025_7_28_16_35_startup.cfg\n",
      "startup.cfg                                   100% 2759     2.7KB/s   00:00    \n",
      "sftp> quit\n",
      "<H3C>\n"
     ]
    }
   ],
   "source": [
    "import paramiko\n",
    "import time\n",
    "from datetime import datetime\n",
    "import re\n",
    "\n",
    "ip = \"192.168.56.3\"\n",
    "user = \"user\"\n",
    "passwd = \"User@12345\"\n",
    "\n",
    "SFTP_IP = \"192.168.56.2\"\n",
    "SFTP_Uname = \"py-auto-dev\"\n",
    "SFTP_pwd = \"H3C-py\"\n",
    "\n",
    "def detect_output(output):\n",
    "    # 判断顺序很重要，避免子串匹配错误\n",
    "    if \"The server is not authenticated. Continue? [Y/N]:\" in output:\n",
    "        return 1\n",
    "    elif \"Do you want to save the server public key? [Y/N]:\" in output:\n",
    "        return 2\n",
    "    elif SFTP_Uname+ \"@\" + SFTP_IP +\"'s password:\" in output:\n",
    "        return 0\n",
    "    else:\n",
    "        return None  # 或者返回 -1 表示未匹配任何情况\n",
    "\n",
    "ssh_client = paramiko.SSHClient()  # 实例化SSHClient\n",
    "ssh_client.set_missing_host_key_policy(paramiko.AutoAddPolicy())  # 自动添加策略，保存服务器主机名和密钥信息\n",
    "ssh_client.connect(hostname=ip, username=user, password=passwd)  # 连接SSH服务端，以用户名和密码进行认证\n",
    "\n",
    "command = ssh_client.invoke_shell()  # 在客户端激活shell\n",
    "new_time = datetime.now()\n",
    "# print(new_time)\n",
    "\n",
    "# 获取设备名\n",
    "command.send(\"\\x1a\") # 这里为键入命令ctrl+Z，来保证设备退到了用户视图\n",
    "command.send(\"\\n\") \n",
    "time.sleep(2)\n",
    "name_result = command.recv(65535)\n",
    "name_result = name_result.decode(\"ascii\")\n",
    "# print(name_result)\n",
    "\n",
    "# 构造新的文件名称\n",
    "device_name = re.findall('.*?<(.*?)>.*?',name_result,re.S)[0]\n",
    "new_file_name = device_name + \"_%s_%s_%s_%s_%s_startup.cfg\"%(new_time.year,new_time.month,new_time.day,new_time.hour,new_time.minute)\n",
    "print(new_file_name)\n",
    "\n",
    "command.send(\"sftp \"+ SFTP_IP +\"\\n\")\n",
    "command.send(SFTP_Uname + \"\\n\")\n",
    "time.sleep(2)  # 线程推迟2S运行 = 休眠2S\n",
    "FTPLogin_output = command.recv(65535)  # 接收的最大字节数\n",
    "FTPLogin_output = FTPLogin_output.decode(\"ascii\")\n",
    "# print(type(FTPLogin_output))\n",
    "\n",
    "while True:\n",
    "    tag = detect_output(FTPLogin_output)\n",
    "    if tag == 0:\n",
    "        break\n",
    "    else:\n",
    "        command.send(\"y\\n\")\n",
    "        \n",
    "command.send(SFTP_pwd +\"\\n\")\n",
    "time.sleep(2)  # 线程推迟2S运行 = 休眠2S\n",
    "PWD_output = command.recv(65535)  # 接收的最大字节数\n",
    "PWD_output = PWD_output.decode(\"ascii\")\n",
    "\n",
    "if \"sftp>\" in PWD_output:\n",
    "    command.send(\"put startup.cfg /home/py-auto-dev/AutoDevPro/Device_Config_Backup/\"+ new_file_name +\"\\n\")\n",
    "else:\n",
    "    print(\"sftp error\")\n",
    "\n",
    "command.send(\"quit\\n\")\n",
    "\n",
    "time.sleep(2)  # 线程推迟2S运行 = 休眠2S\n",
    "output = command.recv(65535)  # 接收的最大字节数\n",
    "print(output.decode(\"ascii\"))\n",
    "\n",
    "# 关闭 SSHClient\n",
    "ssh_client.close()\n"
   ]
  },
  {
   "cell_type": "markdown",
   "id": "580fc321-406c-4700-9e98-abb70020aa69",
   "metadata": {},
   "source": [
    "### xlsx表格处理\n",
    "阅读表格并处理其中信息的简单编程脚本。"
   ]
  },
  {
   "cell_type": "code",
   "execution_count": 3,
   "id": "2bccb988-e211-4641-828b-8dd7ad74a387",
   "metadata": {},
   "outputs": [
    {
     "name": "stdout",
     "output_type": "stream",
     "text": [
      "所有工作表名称：\n",
      "['Init_Sheet', 'Port_IP_Sheet(Router)', 'Port_IP_Sheet(Switch)', 'IP_Route_Static_Sheet', 'OSPF_Init_Sheet', 'OSPF_Sheet']\n"
     ]
    }
   ],
   "source": [
    "import pandas as pd\n",
    "import os\n",
    "\n",
    "# 定义文件路径\n",
    "file_path = \"/home/py-auto-dev/AutoDevPro/Config_Sheet/Automated_Configuration_Table_Template.xlsx\"\n",
    "\n",
    "def get_sheet_names(file_path):\n",
    "    # 检查文件是否存在\n",
    "    if not os.path.exists(file_path):\n",
    "        print(f\"错误：文件不存在！路径为：{file_path}\")\n",
    "        return None\n",
    "\n",
    "    try:\n",
    "        # 使用 pandas 的 ExcelFile 获取工作表名称\n",
    "        excel_file = pd.ExcelFile(file_path)\n",
    "        sheet_names = excel_file.sheet_names  # 返回所有 sheet 名称的列表\n",
    "        return sheet_names\n",
    "    except Exception as e:\n",
    "        print(f\"读取 Excel 文件时发生错误：{e}\")\n",
    "        return None\n",
    "\n",
    "# 调用函数\n",
    "sheet_list = get_sheet_names(file_path)\n",
    "\n",
    "if sheet_list is not None:\n",
    "    print(\"所有工作表名称：\")\n",
    "    print(sheet_list)"
   ]
  },
  {
   "cell_type": "code",
   "execution_count": 6,
   "id": "90ef26e8-90e5-4ab9-96ff-17bfadc3d8e2",
   "metadata": {},
   "outputs": [
    {
     "name": "stdout",
     "output_type": "stream",
     "text": [
      "{'Device_Name': 'AutoConfig_R1', 'Manage_IP': '192.168.56.3/24', 'Manager_Name': 'user', 'Manager_Password': 'User@12345', 'Backup_choose': 1, 'FTP_Server': None}\n",
      "{'Device_Name': 'AutoConfig_R2', 'Manage_IP': '192.168.56.4/24', 'Manager_Name': 'user', 'Manager_Password': 'User@12345', 'Backup_choose': 1, 'FTP_Server': None}\n",
      "{'Device_Name': 'AutoConfig_R3', 'Manage_IP': '192.168.56.5/24', 'Manager_Name': 'user', 'Manager_Password': 'User@12345', 'Backup_choose': 1, 'FTP_Server': None}\n",
      "{'Device_Name': 'Auto_Dev_Server', 'Manage_IP': '192.168.56.2/24', 'Manager_Name': 'py-auto-dev', 'Manager_Password': 'H3C-py', 'Backup_choose': None, 'FTP_Server': 1}\n"
     ]
    }
   ],
   "source": [
    "from openpyxl import load_workbook\n",
    "\n",
    "def read_init_sheet_to_list_of_dicts(file_path, sheet_name='Init_Sheet'):\n",
    "    \"\"\"\n",
    "    读取Excel文件中指定工作表的数据，转换为列表嵌套字典的形式\n",
    "    :param file_path: Excel文件路径\n",
    "    :param sheet_name: 工作表名称，默认为 'Init_Sheet'\n",
    "    :return: 包含字典的列表，每行对应一个字典\n",
    "    \"\"\"\n",
    "    # 加载工作簿和工作表\n",
    "    workbook = load_workbook(file_path)\n",
    "    sheet = workbook[sheet_name]\n",
    "\n",
    "    # 获取所有行数据\n",
    "    rows = list(sheet.iter_rows(values_only=True))\n",
    "\n",
    "    if not rows:\n",
    "        print(\"工作表为空\")\n",
    "        return []\n",
    "\n",
    "    # 第一行作为键（列名）\n",
    "    headers = [cell.strip() if cell else \"\" for cell in rows[0]]\n",
    "\n",
    "    # 构建结果列表\n",
    "    result = []\n",
    "    for row in rows[1:]:\n",
    "        # 每一行构建一个字典，与列头对应\n",
    "        row_dict = {headers[i]: row[i] for i in range(len(headers))}\n",
    "        result.append(row_dict)\n",
    "\n",
    "    return result\n",
    "\n",
    "# 使用示例\n",
    "if __name__ == \"__main__\":\n",
    "    file_path = '/home/py-auto-dev/AutoDevPro/Config_Sheet/Automated_Configuration_Table_Template.xlsx'  # 替换为你的实际文件路径\n",
    "    data = read_init_sheet_to_list_of_dicts(file_path)\n",
    "\n",
    "    # 打印结果\n",
    "    for item in data:\n",
    "        print(item)"
   ]
  },
  {
   "cell_type": "code",
   "execution_count": null,
   "id": "e9075325-79c1-4a3a-b92b-73c7c4c52d6a",
   "metadata": {},
   "outputs": [],
   "source": []
  }
 ],
 "metadata": {
  "kernelspec": {
   "display_name": "Python 3 (ipykernel)",
   "language": "python",
   "name": "python3"
  },
  "language_info": {
   "codemirror_mode": {
    "name": "ipython",
    "version": 3
   },
   "file_extension": ".py",
   "mimetype": "text/x-python",
   "name": "python",
   "nbconvert_exporter": "python",
   "pygments_lexer": "ipython3",
   "version": "3.10.18"
  }
 },
 "nbformat": 4,
 "nbformat_minor": 5
}
