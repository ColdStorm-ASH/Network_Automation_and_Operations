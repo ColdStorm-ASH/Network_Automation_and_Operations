{
 "cells": [
  {
   "cell_type": "code",
   "id": "2634f0b5-cb59-4827-82cf-a8ef8646c7cb",
   "metadata": {},
   "source": "from Network_Automation_and_Operations.Init.AutoDev import *",
   "outputs": [],
   "execution_count": null
  },
  {
   "cell_type": "code",
   "id": "24e330fd-29ce-4f68-aeb4-306ba115b1b2",
   "metadata": {
    "scrolled": true
   },
   "source": [
    "from Network_Automation_and_Operations.Init.AutoDev import *\n",
    "\n",
    "if __name__ == \"__main__\":\n",
    "    ADConfig = AutoDev_Config()\n",
    "    ADConfig.AD_Config_GetStartFile()\n",
    "    ADConfig.AD_Config_Start_Stage()\n",
    "    # ADConfig.AD_Config_Start_Stage(Change_Name=True,InitConfig_Backup=True)\n",
    "    # ADConfig.AD_Config_Start_Stage(Change_Name=True)\n",
    "    ADConfig.AD_Config_Core()"
   ],
   "outputs": [],
   "execution_count": null
  }
 ],
 "metadata": {
  "kernelspec": {
   "display_name": "Python 3 (ipykernel)",
   "language": "python",
   "name": "python3"
  },
  "language_info": {
   "codemirror_mode": {
    "name": "ipython",
    "version": 3
   },
   "file_extension": ".py",
   "mimetype": "text/x-python",
   "name": "python",
   "nbconvert_exporter": "python",
   "pygments_lexer": "ipython3",
   "version": "3.10.18"
  }
 },
 "nbformat": 4,
 "nbformat_minor": 5
}
